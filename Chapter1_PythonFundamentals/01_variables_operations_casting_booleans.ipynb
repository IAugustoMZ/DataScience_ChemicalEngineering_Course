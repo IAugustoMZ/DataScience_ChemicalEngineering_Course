{
 "cells": [
  {
   "cell_type": "markdown",
   "id": "dc0caf56",
   "metadata": {},
   "source": [
    "# Chapter 1 - Python Fundamentals for Chemical Engineers\n",
    "\n",
    "## 1.1. Variables & Types, Math Operations, Casting\n",
    "\n",
    "**Context:** Mini-scenarios from process/chemical engineering (mass/energy balance, mixing, Re number).\n",
    "\n",
    "### Learning objectives\n",
    "By the end of this notebook you will be able to:\n",
    "- Declare variables with meaningful names and track **units**.\n",
    "- Perform arithmetic with attention to **unit consistency** and operator precedence.\n",
    "- Use `input()` and cast to `int`/`float` safely to avoid type errors.\n",
    "- Build boolean expressions to check **specs, limits, and interlocks**.\n",
    "\n",
    "> Tip: Add units in variable names or comments (e.g., `pressure_bar`, `T_C`) to avoid mistakes.\n",
    "\n",
    "### Table of Contents\n",
    "\n",
    "- [1.1. Variables & Types, Math Operations, Casting](#11-variables--types-math-operations-casting)\n",
    "    - [1.1.1. Variables & Types (with units)](#111-variables--types-with-units)\n",
    "        - [Naming Rules](#naming-rules)\n",
    "        - [Data Types](#data-types)\n",
    "        - [Type flexibility](#type-flexibility)\n",
    "        - [Engineering Example](#engineering-example)\n",
    "    - [1.1.2. Data Types](#112-data-types)\n",
    "    - [1.1.3. Math Operations in Python and Chemical Engineering](#113-math-operations-in-python-and-chemical-engineering)\n",
    "        - [Operator Precedence](#operator-precedence)\n",
    "        - [Ideal Gas Law Example](#ideal-gas-law-example)\n",
    "        - [Example: Mixing Tank (mass balance)](#example-mixing-tank-mass-balance)\n",
    "        - [Example: Reynolds Number](#example--reynolds-number)\n",
    "        - [Example — Filling Drums from a Tank](#example--filling-drums-from-a-tank)\n",
    "        - [Example — Pressure Vessel Volume](#example--pressure-vessel-volume)\n",
    "    - [1.1.4. Input & Type Casting](#114-input--type-casting)"
   ]
  },
  {
   "cell_type": "markdown",
   "id": "b1d94545",
   "metadata": {},
   "source": [
    "### 1.1.1. Variables & Types (with units)\n",
    "\n",
    "In Python, a **variable** stores a value.  \n",
    "Always include the **units** in the name or as a comment — this is critical in engineering.\n",
    "\n",
    "Examples:  \n",
    "- `temperature_C` → temperature in °C  \n",
    "- `pressure_bar` → pressure in bar  \n",
    "- `Q_m3_h` → volumetric flow in m³/h  \n"
   ]
  },
  {
   "cell_type": "code",
   "execution_count": 2,
   "id": "b6cf2487",
   "metadata": {},
   "outputs": [
    {
     "name": "stdout",
     "output_type": "stream",
     "text": [
      "T = 85.0 °C  | 358.15 K\n",
      "P = 3.2 bar | 320000.0 Pa\n"
     ]
    }
   ],
   "source": [
    "# Reactor operating conditions\n",
    "temperature_C = 85.0     # °C (reactor jacket outlet)\n",
    "pressure_bar = 3.2       # bar (reactor headspace absolute)\n",
    "\n",
    "# Unit conversions\n",
    "temperature_K = temperature_C + 273.15     # K\n",
    "pressure_Pa   = pressure_bar * 1e5         # Pa\n",
    "\n",
    "print(\"T =\", temperature_C, \"°C  |\", temperature_K, \"K\")\n",
    "print(\"P =\", pressure_bar, \"bar |\", pressure_Pa, \"Pa\")\n"
   ]
  },
  {
   "cell_type": "markdown",
   "id": "7c3e6f61",
   "metadata": {},
   "source": [
    "#### Naming Rules\n",
    "\n",
    "- Use **descriptive names**:\n",
    "  - ✅ `viscosity_cP`, `density_kg_m3`\n",
    "  - ❌ `x`, `data1` (unclear later)\n",
    "\n",
    "- Rules:\n",
    "  - Must start with a letter or `_`\n",
    "  - No spaces (use `_`)\n",
    "  - Case-sensitive (`T` ≠ `t`)\n",
    "\n",
    "### 1.1.2. Data Types\n",
    "\n",
    "Python has several basic types useful in engineering:\n",
    "\n",
    "- **int** → integers (e.g., `5`)\n",
    "- **float** → decimals (e.g., `3.14`)\n",
    "- **str** → text/strings (e.g., `\"Reactor A\"`)\n",
    "- **bool** → logical values `True` or `False`\n",
    "\n",
    "Check a variable’s type with `type()`:"
   ]
  },
  {
   "cell_type": "code",
   "execution_count": 3,
   "id": "3e899a88",
   "metadata": {},
   "outputs": [
    {
     "name": "stdout",
     "output_type": "stream",
     "text": [
      "<class 'int'>\n",
      "<class 'float'>\n",
      "<class 'str'>\n",
      "<class 'bool'>\n"
     ]
    }
   ],
   "source": [
    "print(type(997))          # int\n",
    "print(type(0.00089))      # float\n",
    "print(type(\"kg/m^3\"))     # str\n",
    "print(type(True))         # bool"
   ]
  },
  {
   "cell_type": "markdown",
   "id": "092fb9c8",
   "metadata": {},
   "source": [
    "#### Type flexibility\n",
    "\n",
    "Python can combine types in calculations:\n",
    "\n",
    "- int × float → float  "
   ]
  },
  {
   "cell_type": "code",
   "execution_count": 4,
   "id": "447eeec3",
   "metadata": {},
   "outputs": [],
   "source": [
    "flow = 10        # int\n",
    "time = 3.5       # float\n",
    "volume = flow * time   # result is float"
   ]
  },
  {
   "cell_type": "markdown",
   "id": "d29b9f18",
   "metadata": {},
   "source": [
    "⚠️ Be careful: \"100\" is a string, not a number!\n",
    "\n",
    "\"100\" + 50 → ❌ error\n",
    "\n",
    "int(\"100\") + 50 → ✅ 150\n",
    "\n",
    "#### Engineering Example\n",
    "\n",
    "Calculate the mass of oil in a storage tank:\n",
    "\n",
    "- Density = 850 kg/m³  \n",
    "- Volume = 2.5 m³"
   ]
  },
  {
   "cell_type": "code",
   "execution_count": 5,
   "id": "e6ba3cc4",
   "metadata": {},
   "outputs": [
    {
     "name": "stdout",
     "output_type": "stream",
     "text": [
      "Mass = 2125.0 kg\n"
     ]
    }
   ],
   "source": [
    "density_kg_m3 = 850.0\n",
    "V_m3 = 2.5\n",
    "mass_kg = density_kg_m3 * V_m3\n",
    "print(\"Mass =\", mass_kg, \"kg\")"
   ]
  },
  {
   "cell_type": "markdown",
   "id": "8586ebba",
   "metadata": {},
   "source": [
    "### 1.1.3. Math Operations in Python and Chemical Engineering\n",
    "\n",
    "Mathematics is the language of engineering. Python uses symbols that are similar to what we\n",
    "write on paper, but there are some important details:\n",
    "\n",
    "| Symbol | Operation                | Example (Python) | Example (Engineering) |\n",
    "|--------|---------------------------|------------------|------------------------|\n",
    "| `+`    | Addition                  | `2 + 3` → 5      | Add two flowrates: `Q_total = Q1 + Q2` |\n",
    "| `-`    | Subtraction               | `5 - 2` → 3      | Pressure drop: `ΔP = Pin - Pout` |\n",
    "| `*`    | Multiplication            | `4 * 2` → 8      | Heat duty: `Q = m * cp * ΔT` |\n",
    "| `/`    | Division                  | `10 / 4` → 2.5   | Velocity: `u = Q / A` |\n",
    "| `**`   | Exponent (power)          | `3 ** 2` → 9     | Area of circle: `A = π * r**2` |\n",
    "| `%`    | Modulo (remainder)        | `10 % 3` → 1     | Rare in engineering, but useful in cycles/schedules |\n",
    "| `//`   | Floor division (integer)  | `10 // 3` → 3    | Batch count: number of full 200 L drums from 650 L |\n",
    "\n",
    "#### Operator Precedence\n",
    "\n",
    "Like in algebra, Python respects the order of operations:\n",
    "1. Parentheses `( )`\n",
    "2. Exponentiation `**`\n",
    "3. Multiplication/division `*`, `/`, `//`, `%`\n",
    "4. Addition/subtraction `+`, `-`\n",
    "\n",
    "For example:  \n"
   ]
  },
  {
   "cell_type": "code",
   "execution_count": 6,
   "id": "47e98737",
   "metadata": {},
   "outputs": [
    {
     "name": "stdout",
     "output_type": "stream",
     "text": [
      "Result 1 = 250.0\n",
      "Result 2 = 10.0\n"
     ]
    }
   ],
   "source": [
    "result1 = 100 / 2 * 5      # left to right: (100/2)=50 → (50*5)=250\n",
    "result2 = 100 / (2 * 5)    # parentheses: 100/10 = 10\n",
    "print(\"Result 1 =\", result1)\n",
    "print(\"Result 2 =\", result2)"
   ]
  },
  {
   "cell_type": "markdown",
   "id": "1f0dadac",
   "metadata": {},
   "source": [
    "This is important in engineering calculations. For example, when applying correlations like\n",
    "the Reynolds number or Nusselt correlations, forgetting parentheses can give results off by\n",
    "orders of magnitude.\n",
    "\n",
    "### Example - Ideal Gas Law\n",
    "\n",
    "**Scenario:** You have a reactor vessel with:\n",
    "- Pressure = 2.5 bar (absolute)\n",
    "- Volume = 1.2 m³\n",
    "- Temperature = 30 °C\n",
    "\n",
    "**Goal:** Estimate how many moles of gas are inside, using the Ideal Gas Law:\n",
    "\n",
    "$\n",
    "PV = nRT \\quad \\Rightarrow \\quad n = \\frac{PV}{RT}\n",
    "$\n",
    "\n",
    "Where:\n",
    "- $P$ is the pressure (bar)\n",
    "- $V$ is the volume (L)\n",
    "- $R$ = 0.08314, $L.bar.mol^{-1}.K^{-1}$\n",
    "- $T$ is the temperature (K)\n",
    "\n",
    "Notice we had to **convert the volume from m³ to L** and **temperature to K**.  \n",
    "This reinforces why *unit consistency* is essential in engineering."
   ]
  },
  {
   "cell_type": "code",
   "execution_count": 7,
   "id": "ba281028",
   "metadata": {},
   "outputs": [
    {
     "name": "stdout",
     "output_type": "stream",
     "text": [
      "Estimated moles of gas: 119.03 mol\n"
     ]
    }
   ],
   "source": [
    "P_bar = 2.5                # bar\n",
    "V_m3  = 1.2                # m³\n",
    "T_C   = 30.0               # °C\n",
    "R = 0.08314                # L·bar/(mol·K)\n",
    "\n",
    "T_K = T_C + 273.15\n",
    "V_L = V_m3 * 1000.0        # convert to liters\n",
    "\n",
    "n_mol = (P_bar * V_L) / (R * T_K)\n",
    "print(f\"Estimated moles of gas: {n_mol:.2f} mol\")"
   ]
  },
  {
   "cell_type": "markdown",
   "id": "6b20a051",
   "metadata": {},
   "source": [
    "### Example - Mixing Tank (mass balance)\n",
    "\n",
    "**Scenario:**  \n",
    "Imagine a mixing tank in a pilot plant where two liquid streams enter and mix completely before leaving.  \n",
    "- Stream 1: low concentration of ethanol in water  \n",
    "- Stream 2: higher concentration of ethanol in water  \n",
    "- The tank is perfectly mixed and operates at steady state (so accumulation = 0).  \n",
    "\n",
    "**Mass balance principle:**  \n",
    "\n",
    "At steady state:\n",
    "$\n",
    "\\text{Input} = \\text{Output}\n",
    "$\n",
    "\n",
    "For a solute (e.g., ethanol), this becomes:\n",
    "$\n",
    "Q_1 C_1 + Q_2 C_2 = (Q_1 + Q_2) C_{out}\n",
    "$\n",
    "\n",
    "Rearranging gives the outlet concentration:\n",
    "$\n",
    "C_{out} = \\frac{Q_1C_1 + Q_2C_2}{Q_1 + Q_2}\n",
    "$\n",
    "\n",
    "Where:  \n",
    "- $ Q_i $ = volumetric flow rate of stream *i* (e.g., L/min)  \n",
    "- $ C_i $ = solute concentration in stream *i* (g/L)  \n",
    "- $ C_{out} $ = concentration in outlet stream (g/L)  \n",
    "\n",
    "**Interpretation:**  \n",
    "- If **Stream 1 dominates the flow**, the outlet concentration will be close to $C_1$.  \n",
    "- If both streams are equal, the outlet will be the **simple average** of $C_1$ and $C_2$.  \n",
    "- This formula is essentially a **weighted average**, where the \"weights\" are the flowrates.  \n",
    "\n",
    "💡 This is one of the most common calculations in chemical engineering, and it appears in mixing, blending, and even in the calculation of average properties in reactors and separation units."
   ]
  },
  {
   "cell_type": "code",
   "execution_count": 8,
   "id": "09f0c124",
   "metadata": {},
   "outputs": [
    {
     "name": "stdout",
     "output_type": "stream",
     "text": [
      "Q_total = 13.0 L/min\n",
      "Solute in = 2.71 g/min\n",
      "C_out = 0.2085 g/L\n"
     ]
    }
   ],
   "source": [
    "Q1_L_min, C1_g_L = 8.0, 0.12\n",
    "Q2_L_min, C2_g_L = 5.0, 0.35\n",
    "\n",
    "Q_total = Q1_L_min + Q2_L_min\n",
    "solute_in_g_per_min = Q1_L_min*C1_g_L + Q2_L_min*C2_g_L\n",
    "C_out = solute_in_g_per_min / Q_total\n",
    "\n",
    "print(f\"Q_total = {Q_total:.1f} L/min\")\n",
    "print(f\"Solute in = {solute_in_g_per_min:.2f} g/min\")\n",
    "print(f\"C_out = {C_out:.4f} g/L\")"
   ]
  },
  {
   "cell_type": "markdown",
   "id": "c08dbb33",
   "metadata": {},
   "source": [
    "### Example - Reynolds Number\n",
    "\n",
    "**Scenario:**  \n",
    "Suppose you are designing a cooling water line. The pipe has an internal diameter of 1 inch (0.0254 m), and water flows with an average velocity of 1.2 m/s at 25 °C.  \n",
    "We want to know if the flow is laminar or turbulent, since this affects **pressure drop** and **heat transfer rates**.\n",
    "\n",
    "---\n",
    "\n",
    "**Formula:**\n",
    "\n",
    "$Re = \\dfrac{\\rho \\, u \\, D}{\\mu}$\n",
    "\n",
    "Where:  \n",
    "- $\\rho$ = density of the fluid (kg/m³)  \n",
    "- $u$ = average velocity (m/s)  \n",
    "- $D$ = pipe diameter (m)  \n",
    "- $\\mu$ = viscosity of the fluid (Pa·s)\n",
    "\n",
    "---\n",
    "\n",
    "**Given values (water at ~25 °C):**\n",
    "\n",
    "- $\\rho$ = 997 $kg/m³$  \n",
    "- $u$ = 1.2  $m/s$  \n",
    "- $D$ = 0.0254  $m$  \n",
    "- $\\mu$ = 0.00089 $Pa.s$  \n",
    "\n",
    "**Interpretation:**\n",
    "\n",
    "- $Re < 2100$ → Laminar flow  \n",
    "- $2100 < Re < 4000$ → Transition regime  \n",
    "- $Re > 4000$ → Turbulent flow  "
   ]
  },
  {
   "cell_type": "code",
   "execution_count": 9,
   "id": "5632857e",
   "metadata": {},
   "outputs": [
    {
     "name": "stdout",
     "output_type": "stream",
     "text": [
      "Reynolds number = 34,144\n"
     ]
    }
   ],
   "source": [
    "rho = 997.0       # kg/m³ (water at 25 °C)\n",
    "u   = 1.2         # m/s\n",
    "D   = 0.0254      # m (1 inch pipe)\n",
    "mu  = 0.00089     # Pa·s\n",
    "\n",
    "Re = (rho * u * D) / mu\n",
    "\n",
    "print(f\"Reynolds number = {Re:,.0f}\")\n"
   ]
  },
  {
   "cell_type": "markdown",
   "id": "211ad881",
   "metadata": {},
   "source": [
    "### Example - Filling Drums from a Tank\n",
    "\n",
    "You need to package 650 L of solvent into 200 L drums.\n",
    "\n",
    "- Floor division (`//`) tells us how many **full drums** we can fill.  \n",
    "- Modulo (`%`) tells us how much solvent is **left over**.\n"
   ]
  },
  {
   "cell_type": "code",
   "execution_count": 10,
   "id": "2768085b",
   "metadata": {},
   "outputs": [
    {
     "name": "stdout",
     "output_type": "stream",
     "text": [
      "Full drums: 3\n",
      "Leftover solvent: 50 L\n"
     ]
    }
   ],
   "source": [
    "total_volume_L = 650\n",
    "drum_capacity_L = 200\n",
    "\n",
    "full_drums = total_volume_L // drum_capacity_L   # floor division\n",
    "leftover = total_volume_L % drum_capacity_L      # remainder\n",
    "\n",
    "print(\"Full drums:\", full_drums)\n",
    "print(\"Leftover solvent:\", leftover, \"L\")\n"
   ]
  },
  {
   "cell_type": "markdown",
   "id": "c8c01b57",
   "metadata": {},
   "source": [
    "### Example - Pressure Vessel Volume\n",
    "\n",
    "Suppose you have a **spherical vessel** of internal radius $r = 1.2$ m.  \n",
    "The volume is given by:\n",
    "\n",
    "$\n",
    "V = \\frac{4}{3} \\pi r^3\n",
    "$\n",
    "\n",
    "Notice the cube: $r^3$ is written in Python as `r**3`.\n"
   ]
  },
  {
   "cell_type": "code",
   "execution_count": 11,
   "id": "2947c93d",
   "metadata": {},
   "outputs": [
    {
     "name": "stdout",
     "output_type": "stream",
     "text": [
      "Vessel volume (using pi=3.14) = 7.235 m³\n",
      "Vessel volume (using math.pi) = 7.238 m³\n",
      "Using external packages like 'math' ensures higher precision and reliability, especially for scientific constants like pi.\n"
     ]
    }
   ],
   "source": [
    "# Using pi = 3.14 (approximate value)\n",
    "pi = 3.14\n",
    "r_m = 1.2\n",
    "V_m3_approx = (4/3) * pi * (r_m**3)\n",
    "print(f\"Vessel volume (using pi=3.14) = {V_m3_approx:.3f} m³\")\n",
    "\n",
    "# Using math.pi and explaining why it's better\n",
    "import math\n",
    "V_m3_math = (4/3) * math.pi * (r_m**3)\n",
    "print(f\"Vessel volume (using math.pi) = {V_m3_math:.3f} m³\")\n",
    "print(\"Using external packages like 'math' ensures higher precision and reliability, especially for scientific constants like pi.\")\n"
   ]
  },
  {
   "cell_type": "markdown",
   "id": "2e40fb62",
   "metadata": {},
   "source": [
    "Other common uses of exponents in chemical engineering:\n",
    "\n",
    "- **Arrhenius equation**: $k = A \\, e^{-E_a/(RT)}$ (exponential)  \n",
    "- **Correlations**: friction factor, Nusselt number, etc. often use $Re^n$ or $Pr^m$  \n",
    "- **Polytropic processes**: $PV^n = \\text{constant}$ involves exponents  \n",
    "\n",
    "The exponent operator is therefore fundamental in modeling and correlations."
   ]
  },
  {
   "cell_type": "markdown",
   "id": "367f197f",
   "metadata": {},
   "source": [
    "## 1.1.4. Input & Type Casting\n",
    "\n",
    "So far, all numbers in our calculations were *hard-coded* inside the program (we typed them directly into variables).  \n",
    "But in real engineering work, values often come from **outside sources**:\n",
    "- An operator typing a flowrate into an interface\n",
    "- A sensor measurement saved as text in a file\n",
    "- A colleague entering experimental data manually\n",
    "\n",
    "In Python, the function `input()` is how we collect values from the user.  \n",
    "\n",
    "⚠️ Important: everything that comes from `input()` is treated as **text** (a *string*), even if it looks like a number.  \n",
    "This means we need to **convert** (or *cast*) the text into the right type before we can use it in calculations.\n",
    "\n",
    "---\n",
    "\n",
    "### Why this matters in engineering\n",
    "\n",
    "Imagine reading `\"25\"` from a file:  \n",
    "- If Python thinks it is text, it cannot be multiplied by density to get mass.  \n",
    "- Once we cast it into a number (`int` or `float`), it becomes usable in equations.\n",
    "\n",
    "This is why **type casting** is a basic but essential skill for engineers who use Python to process data.\n",
    "\n",
    "### Example - Tank Mass Calculation\n",
    "\n",
    "Suppose an operator measures the volume of liquid in a storage tank.  \n",
    "We want to compute the **mass** using density.\n",
    "\n",
    "$\n",
    "m = \\rho \\, V\n",
    "$\n",
    "\n",
    "Where:  \n",
    "- $\\rho$ = density (kg/m³)  \n",
    "- $V$ = volume (m³)  \n",
    "\n",
    "Since the operator types the values, we must **cast them to floats** before multiplying.\n",
    "\n"
   ]
  },
  {
   "cell_type": "code",
   "execution_count": 12,
   "id": "b280768f",
   "metadata": {},
   "outputs": [
    {
     "name": "stdout",
     "output_type": "stream",
     "text": [
      "Mass of liquid = 2000.00 kg\n"
     ]
    }
   ],
   "source": [
    "density = float(input(\"Enter density (kg/m³): \"))\n",
    "volume = float(input(\"Enter volume (m³): \"))\n",
    "\n",
    "mass = density * volume\n",
    "print(f\"Density = {density:.2f} kg/m³\")\n",
    "print(f\"Volume = {volume:.2f} m³\")\n",
    "print(f\"Mass of liquid = {mass:.2f} kg\")\n"
   ]
  },
  {
   "cell_type": "markdown",
   "id": "2fc103b7",
   "metadata": {},
   "source": [
    "### Example - Energy Balance (Heating Water)\n",
    "\n",
    "We want to compute the **heat duty** for heating a stream of water.\n",
    "\n",
    "$\n",
    "Q = \\dot{m} \\, c_p \\, \\Delta T\n",
    "$\n",
    "\n",
    "Where:  \n",
    "- $\\dot{m}$ = mass flowrate (kg/s)  \n",
    "- $c_p = 4.18 \\, \\text{kJ/(kg.K)}$  \n",
    "- $\\Delta T = T_{out} - T_{in}$  \n",
    "\n",
    "The user provides the flowrate and temperatures.\n"
   ]
  },
  {
   "cell_type": "code",
   "execution_count": 13,
   "id": "dae013bb",
   "metadata": {},
   "outputs": [
    {
     "name": "stdout",
     "output_type": "stream",
     "text": [
      "Mass flowrate = 12.00 kg/s\n",
      "Inlet temperature = 23.00 °C\n",
      "Outlet temperature = 105.00 °C\n",
      "Specific heat capacity = 4.18 kJ/(kg·K)\n",
      "Heat duty = 4113.12 kW\n"
     ]
    }
   ],
   "source": [
    "m_dot = float(input(\"Enter mass flowrate (kg/s): \"))\n",
    "T_in = float(input(\"Enter inlet temperature (°C): \"))\n",
    "T_out = float(input(\"Enter outlet temperature (°C): \"))\n",
    "cp = 4.18   # kJ/(kg·K)\n",
    "\n",
    "Q_kW = m_dot * cp * (T_out - T_in)   # result in kW\n",
    "\n",
    "print(f\"Mass flowrate = {m_dot:.2f} kg/s\")\n",
    "print(f\"Inlet temperature = {T_in:.2f} °C\")\n",
    "print(f\"Outlet temperature = {T_out:.2f} °C\")\n",
    "print(f\"Specific heat capacity = {cp:.2f} kJ/(kg·K)\")\n",
    "print(f\"Heat duty = {Q_kW:.2f} kW\")\n"
   ]
  },
  {
   "cell_type": "markdown",
   "id": "44bf11f3",
   "metadata": {},
   "source": [
    "### Example - Pipe Velocity\n",
    "\n",
    "For a given volumetric flowrate $Q$ and pipe diameter $D$, the velocity is:\n",
    "\n",
    "$\n",
    "u = \\frac{Q}{A}, \\quad A = \\frac{\\pi D^2}{4}\n",
    "$\n",
    "\n",
    "We ask the user to type $Q$ (in m³/h) and $D$ (in m), convert units, and compute velocity.\n"
   ]
  },
  {
   "cell_type": "code",
   "execution_count": null,
   "id": "06210148",
   "metadata": {},
   "outputs": [],
   "source": [
    "import math\n",
    "\n",
    "Q_m3_h = float(input(\"Enter flowrate Q (m³/h): \"))\n",
    "D_m = float(input(\"Enter pipe diameter D (m): \"))\n",
    "\n",
    "Q_m3_s = Q_m3_h / 3600.0\n",
    "A = math.pi * (D_m**2) / 4.0\n",
    "u = Q_m3_s / A\n",
    "\n",
    "print(f\"Velocity = {u:.3f} m/s\")\n",
    "print(f\"Cross-sectional area = {A:.3f} m²\")\n",
    "print(f\"Flowrate = {Q_m3_s:.3f} m³/s\")\n",
    "print(f\"Pipe diameter = {D_m:.3f} m\")\n",
    "print(f\"Volumetric flowrate = {Q_m3_h:.3f} m³/h\")\n"
   ]
  },
  {
   "cell_type": "markdown",
   "id": "026cd7ea",
   "metadata": {},
   "source": [
    "## 1.1.5. Booleans & Comparisons\n",
    "\n",
    "In chemical and process engineering, we constantly need to **make decisions based on conditions**:\n",
    "- Is the product inside specifications?  \n",
    "- Is the reactor safe to operate?  \n",
    "- Should an alarm be triggered?  \n",
    "- Is a pump running while the valve is closed?\n",
    "\n",
    "These yes/no questions are naturally represented in Python by the **boolean type**, which has only two values:\n",
    "- `True`  \n",
    "- `False`\n",
    "\n",
    "---\n",
    "\n",
    "### Why this matters in engineering\n",
    "\n",
    "- **Quality control:** release a batch only if density and viscosity are within range.  \n",
    "- **Process safety:** shut down equipment if temperature or pressure exceed limits.  \n",
    "- **Automation:** trigger alarms if a tank level is too high or too low.  \n",
    "\n",
    "Booleans are the bridge between **numerical calculations** (flows, pressures, temperatures) and **logical decisions** (alarms, shutdowns, batch release).  \n",
    "\n",
    "---\n",
    "\n",
    "### Operators\n",
    "\n",
    "**Comparison operators** let us test conditions:\n",
    "- `>`  greater than  \n",
    "- `<`  less than  \n",
    "- `>=` greater or equal  \n",
    "- `<=` less or equal  \n",
    "- `==` equal  \n",
    "- `!=` not equal  \n",
    "\n",
    "**Logical operators** combine conditions:\n",
    "- `and` → both conditions must be true  \n",
    "- `or` → at least one condition must be true  \n",
    "- `not` → inverts the condition  \n",
    "\n",
    "Together, these let us encode the same kinds of rules we use in **plant operation manuals, interlock systems, and QA checklists**.\n",
    "\n",
    "### Example - Distillation Column Overpressure (`>`)\n",
    "\n",
    "A distillation column has a maximum operating pressure of 6 bar.  \n",
    "If the actual pressure is **greater than** 6, a high-pressure alarm must be raised.\n"
   ]
  },
  {
   "cell_type": "code",
   "execution_count": 19,
   "id": "712b4e69",
   "metadata": {},
   "outputs": [
    {
     "name": "stdout",
     "output_type": "stream",
     "text": [
      "High-pressure alarm triggered? (True case) True\n",
      "High-pressure alarm triggered? (False case) False\n"
     ]
    }
   ],
   "source": [
    "# True case: pressure exceeds the maximum\n",
    "pressure_bar = 6.5\n",
    "max_pressure_bar = 6.0\n",
    "high_pressure_alarm = pressure_bar > max_pressure_bar\n",
    "print(\"High-pressure alarm triggered? (True case)\", high_pressure_alarm)\n",
    "\n",
    "# False case: pressure does not exceed the maximum\n",
    "pressure_bar = 5.8\n",
    "high_pressure_alarm = pressure_bar > max_pressure_bar\n",
    "print(\"High-pressure alarm triggered? (False case)\", high_pressure_alarm)"
   ]
  },
  {
   "cell_type": "markdown",
   "id": "c965f2fb",
   "metadata": {},
   "source": [
    "### Example - Cooling Tower Low Flow (`<`)\n",
    "\n",
    "A cooling tower must maintain water flow above 100 m³/h.  \n",
    "If flow is **less than** 100, efficiency drops and a low-flow alarm is triggered.\n"
   ]
  },
  {
   "cell_type": "code",
   "execution_count": 15,
   "id": "f68f23b8",
   "metadata": {},
   "outputs": [
    {
     "name": "stdout",
     "output_type": "stream",
     "text": [
      "Low-flow alarm triggered? True\n"
     ]
    }
   ],
   "source": [
    "# True case: flow is less than minimum, alarm should trigger\n",
    "flow_m3_h = 85\n",
    "min_flow = 100\n",
    "\n",
    "low_flow_alarm = flow_m3_h < min_flow\n",
    "print(\"Low-flow alarm triggered? (True case)\", low_flow_alarm)\n",
    "\n",
    "# False case: flow is above minimum, alarm should not trigger\n",
    "flow_m3_h = 120\n",
    "low_flow_alarm = flow_m3_h < min_flow\n",
    "print(\"Low-flow alarm triggered? (False case)\", low_flow_alarm)\n"
   ]
  },
  {
   "cell_type": "markdown",
   "id": "6a38ac18",
   "metadata": {},
   "source": [
    "### Example - Tank Full Detection (`>=`)\n",
    "\n",
    "A storage tank is considered “full” if its level reaches **at least 95%** of capacity.  \n",
    "If the level is **greater than or equal to** 95%, the filling pump must be stopped.\n"
   ]
  },
  {
   "cell_type": "code",
   "execution_count": 20,
   "id": "f13cbf18",
   "metadata": {},
   "outputs": [
    {
     "name": "stdout",
     "output_type": "stream",
     "text": [
      "Stop filling pump? (True case) True\n",
      "Stop filling pump? (False case) False\n"
     ]
    }
   ],
   "source": [
    "# True case: tank level is at the threshold, pump should stop\n",
    "tank_level_percent = 95\n",
    "full_threshold = 95\n",
    "\n",
    "tank_full = tank_level_percent >= full_threshold\n",
    "print(\"Stop filling pump? (True case)\", tank_full)\n",
    "\n",
    "# False case: tank level is below the threshold, pump should not stop\n",
    "tank_level_percent = 90\n",
    "tank_full = tank_level_percent >= full_threshold\n",
    "print(\"Stop filling pump? (False case)\", tank_full)"
   ]
  },
  {
   "cell_type": "markdown",
   "id": "48d049a1",
   "metadata": {},
   "source": [
    "### Example - Heat Exchanger Low Temperature (`<=`)\n",
    "\n",
    "A heat exchanger should never cool the stream below 40 °C to avoid condensation.  \n",
    "If the outlet temperature is **less than or equal to** 40, a warning must be issued.\n"
   ]
  },
  {
   "cell_type": "code",
   "execution_count": 21,
   "id": "88a03442",
   "metadata": {},
   "outputs": [
    {
     "name": "stdout",
     "output_type": "stream",
     "text": [
      "Temperature too low warning? (True case) True\n",
      "Temperature too low warning? (False case) False\n"
     ]
    }
   ],
   "source": [
    "# True case: outlet temperature is less than or equal to minimum, warning should trigger\n",
    "T_out = 39.5\n",
    "T_min = 40.0\n",
    "\n",
    "too_cold = T_out <= T_min\n",
    "print(\"Temperature too low warning? (True case)\", too_cold)\n",
    "\n",
    "# False case: outlet temperature is above minimum, warning should not trigger\n",
    "T_out = 42.0\n",
    "too_cold = T_out <= T_min\n",
    "print(\"Temperature too low warning? (False case)\", too_cold)\n"
   ]
  },
  {
   "cell_type": "markdown",
   "id": "3f8dfb9a",
   "metadata": {},
   "source": [
    "### Example - Batch Neutralization pH Check (`==`)\n",
    "\n",
    "In a neutralization step, the batch must reach exactly pH = 7.0 before moving on.  \n",
    "If the pH is **equal to** 7.0, the batch can proceed.\n"
   ]
  },
  {
   "cell_type": "code",
   "execution_count": 22,
   "id": "16bcbbed",
   "metadata": {},
   "outputs": [
    {
     "name": "stdout",
     "output_type": "stream",
     "text": [
      "pH exactly adjusted? (True case) True\n",
      "pH exactly adjusted? (False case) False\n"
     ]
    }
   ],
   "source": [
    "# True case: pH is exactly at the required value\n",
    "pH = 7.0\n",
    "required_pH = 7.0\n",
    "ready_to_proceed = pH == required_pH\n",
    "print(\"pH exactly adjusted? (True case)\", ready_to_proceed)\n",
    "\n",
    "# False case: pH is not at the required value\n",
    "pH = 6.8\n",
    "ready_to_proceed = pH == required_pH\n",
    "print(\"pH exactly adjusted? (False case)\", ready_to_proceed)\n"
   ]
  },
  {
   "cell_type": "markdown",
   "id": "6933c46c",
   "metadata": {},
   "source": [
    "### Example - Sensor Disagreement (`!=`)\n",
    "\n",
    "Two redundant sensors measure reactor pressure.  \n",
    "If their readings are **not equal**, calibration or maintenance is required.\n"
   ]
  },
  {
   "cell_type": "code",
   "execution_count": 23,
   "id": "a777cc6b",
   "metadata": {},
   "outputs": [
    {
     "name": "stdout",
     "output_type": "stream",
     "text": [
      "Calibration required? (True case) True\n",
      "Calibration required? (False case) False\n"
     ]
    }
   ],
   "source": [
    "# True case: sensors disagree, calibration needed\n",
    "sensor1 = 5.2\n",
    "sensor2 = 5.6\n",
    "calibration_needed = sensor1 != sensor2\n",
    "print(\"Calibration required? (True case)\", calibration_needed)\n",
    "\n",
    "# False case: sensors agree, calibration not needed\n",
    "sensor1 = 5.2\n",
    "sensor2 = 5.2\n",
    "calibration_needed = sensor1 != sensor2\n",
    "print(\"Calibration required? (False case)\", calibration_needed)\n"
   ]
  },
  {
   "cell_type": "markdown",
   "id": "cf589a86",
   "metadata": {},
   "source": [
    "### Example - Reactor Safety Interlock (`or`)\n",
    "\n",
    "A reactor trips if **either** pressure exceeds its limit **or** temperature exceeds its limit.  \n",
    "Use `or` because **any single** unsafe condition should trigger the shutdown.\n"
   ]
  },
  {
   "cell_type": "code",
   "execution_count": 25,
   "id": "d5d34f64",
   "metadata": {},
   "outputs": [
    {
     "name": "stdout",
     "output_type": "stream",
     "text": [
      "Emergency shutdown triggered? (Both exceed) True\n",
      "Emergency shutdown triggered? (Pressure only) True\n",
      "Emergency shutdown triggered? (Temperature only) True\n",
      "Emergency shutdown triggered? (Neither) False\n"
     ]
    }
   ],
   "source": [
    "# Case 1: Both pressure and temperature exceed their limits (shutdown)\n",
    "pressure_bar = 5.3\n",
    "temperature_C = 121.0\n",
    "max_pressure_bar = 5.0\n",
    "max_temperature_C = 120.0\n",
    "\n",
    "trip = (pressure_bar > max_pressure_bar) or (temperature_C > max_temperature_C)\n",
    "print(\"Emergency shutdown triggered? (Both exceed)\", trip)\n",
    "\n",
    "# Case 2: Only pressure exceeds the limit (shutdown)\n",
    "pressure_bar = 5.3\n",
    "temperature_C = 115.0\n",
    "trip = (pressure_bar > max_pressure_bar) or (temperature_C > max_temperature_C)\n",
    "print(\"Emergency shutdown triggered? (Pressure only)\", trip)\n",
    "\n",
    "# Case 3: Only temperature exceeds the limit (shutdown)\n",
    "pressure_bar = 4.8\n",
    "temperature_C = 121.0\n",
    "trip = (pressure_bar > max_pressure_bar) or (temperature_C > max_temperature_C)\n",
    "print(\"Emergency shutdown triggered? (Temperature only)\", trip)\n",
    "\n",
    "# Case 4: Both pressure and temperature are within limits (no shutdown)\n",
    "pressure_bar = 4.8\n",
    "temperature_C = 115.0\n",
    "trip = (pressure_bar > max_pressure_bar) or (temperature_C > max_temperature_C)\n",
    "print(\"Emergency shutdown triggered? (Neither)\", trip)\n"
   ]
  },
  {
   "cell_type": "markdown",
   "id": "b16b5e6b",
   "metadata": {},
   "source": [
    "### Example - Batch Release QC (`and`)\n",
    "\n",
    "A product is releasable **only if** density is within 980–1020 kg/m³ **and** viscosity ≤ 12 cP.  \n",
    "Use `and` because **both** quality conditions must be satisfied.\n"
   ]
  },
  {
   "cell_type": "code",
   "execution_count": 26,
   "id": "82e0d186",
   "metadata": {},
   "outputs": [
    {
     "name": "stdout",
     "output_type": "stream",
     "text": [
      "Case 1 - Both in spec: Release batch? True\n",
      "Case 2 - Density ok, viscosity high: Release batch? False\n",
      "Case 3 - Density low, viscosity ok: Release batch? False\n",
      "Case 4 - Both out of spec: Release batch? False\n"
     ]
    }
   ],
   "source": [
    "density = 1008.0     # kg/m³\n",
    "viscosity = 11.6     # cP\n",
    "\n",
    "# Case 1: Both in spec (should release)\n",
    "in_density_range = (980.0 <= density <= 1020.0)\n",
    "in_viscosity_spec = (viscosity <= 12.0)\n",
    "release_batch = in_density_range and in_viscosity_spec\n",
    "print(\"Case 1 - Both in spec: Release batch?\", release_batch)\n",
    "\n",
    "# Case 2: Density in spec, viscosity out of spec (should not release)\n",
    "viscosity = 13.0\n",
    "in_viscosity_spec = (viscosity <= 12.0)\n",
    "release_batch = in_density_range and in_viscosity_spec\n",
    "print(\"Case 2 - Density ok, viscosity high: Release batch?\", release_batch)\n",
    "\n",
    "# Case 3: Density out of spec, viscosity in spec (should not release)\n",
    "density = 970.0\n",
    "viscosity = 11.6\n",
    "in_density_range = (980.0 <= density <= 1020.0)\n",
    "in_viscosity_spec = (viscosity <= 12.0)\n",
    "release_batch = in_density_range and in_viscosity_spec\n",
    "print(\"Case 3 - Density low, viscosity ok: Release batch?\", release_batch)\n",
    "\n",
    "# Case 4: Both out of spec (should not release)\n",
    "density = 970.0\n",
    "viscosity = 13.0\n",
    "in_density_range = (980.0 <= density <= 1020.0)\n",
    "in_viscosity_spec = (viscosity <= 12.0)\n",
    "release_batch = in_density_range and in_viscosity_spec\n",
    "print(\"Case 4 - Both out of spec: Release batch?\", release_batch)\n"
   ]
  },
  {
   "cell_type": "markdown",
   "id": "cb8f1416",
   "metadata": {},
   "source": [
    "### Example - Pump Operation Interlock (`and` + `not`)\n",
    "\n",
    "To **start** a transfer pump, two conditions must hold:  \n",
    "1) The suction valve is open.  \n",
    "2) The discharge valve is open.  \n",
    "\n",
    "If the pump is running **and** the discharge valve is **not** open, raise an overpressure risk.\n"
   ]
  },
  {
   "cell_type": "code",
   "execution_count": 27,
   "id": "030c9089",
   "metadata": {},
   "outputs": [
    {
     "name": "stdout",
     "output_type": "stream",
     "text": [
      "Case 1: Pump running, suction open, discharge open\n",
      "Can start pump? True\n",
      "Overpressure risk? False\n",
      "\n",
      "Case 2: Pump running, suction open, discharge closed\n",
      "Can start pump? False\n",
      "Overpressure risk? True\n",
      "\n",
      "Case 3: Pump running, suction closed, discharge open\n",
      "Can start pump? False\n",
      "Overpressure risk? False\n",
      "\n",
      "Case 4: Pump running, suction closed, discharge closed\n",
      "Can start pump? False\n",
      "Overpressure risk? True\n",
      "\n",
      "Case 5: Pump stopped, suction open, discharge open\n",
      "Can start pump? True\n",
      "Overpressure risk? False\n",
      "\n",
      "Case 6: Pump stopped, suction open, discharge closed\n",
      "Can start pump? False\n",
      "Overpressure risk? False\n",
      "\n",
      "Case 7: Pump stopped, suction closed, discharge open\n",
      "Can start pump? False\n",
      "Overpressure risk? False\n",
      "\n",
      "Case 8: Pump stopped, suction closed, discharge closed\n",
      "Can start pump? False\n",
      "Overpressure risk? False\n"
     ]
    }
   ],
   "source": [
    "pump_running   = True\n",
    "suction_open   = True\n",
    "discharge_open = True\n",
    "\n",
    "can_start = suction_open and discharge_open\n",
    "overpressure_risk = pump_running and (not discharge_open)\n",
    "print(\"Case 1: Pump running, suction open, discharge open\")\n",
    "print(\"Can start pump?\", can_start)\n",
    "print(\"Overpressure risk?\", overpressure_risk)\n",
    "print()\n",
    "\n",
    "pump_running   = True\n",
    "suction_open   = True\n",
    "discharge_open = False\n",
    "\n",
    "can_start = suction_open and discharge_open\n",
    "overpressure_risk = pump_running and (not discharge_open)\n",
    "print(\"Case 2: Pump running, suction open, discharge closed\")\n",
    "print(\"Can start pump?\", can_start)\n",
    "print(\"Overpressure risk?\", overpressure_risk)\n",
    "print()\n",
    "\n",
    "pump_running   = True\n",
    "suction_open   = False\n",
    "discharge_open = True\n",
    "\n",
    "can_start = suction_open and discharge_open\n",
    "overpressure_risk = pump_running and (not discharge_open)\n",
    "print(\"Case 3: Pump running, suction closed, discharge open\")\n",
    "print(\"Can start pump?\", can_start)\n",
    "print(\"Overpressure risk?\", overpressure_risk)\n",
    "print()\n",
    "\n",
    "pump_running   = True\n",
    "suction_open   = False\n",
    "discharge_open = False\n",
    "\n",
    "can_start = suction_open and discharge_open\n",
    "overpressure_risk = pump_running and (not discharge_open)\n",
    "print(\"Case 4: Pump running, suction closed, discharge closed\")\n",
    "print(\"Can start pump?\", can_start)\n",
    "print(\"Overpressure risk?\", overpressure_risk)\n",
    "print()\n",
    "\n",
    "pump_running   = False\n",
    "suction_open   = True\n",
    "discharge_open = True\n",
    "\n",
    "can_start = suction_open and discharge_open\n",
    "overpressure_risk = pump_running and (not discharge_open)\n",
    "print(\"Case 5: Pump stopped, suction open, discharge open\")\n",
    "print(\"Can start pump?\", can_start)\n",
    "print(\"Overpressure risk?\", overpressure_risk)\n",
    "print()\n",
    "\n",
    "pump_running   = False\n",
    "suction_open   = True\n",
    "discharge_open = False\n",
    "\n",
    "can_start = suction_open and discharge_open\n",
    "overpressure_risk = pump_running and (not discharge_open)\n",
    "print(\"Case 6: Pump stopped, suction open, discharge closed\")\n",
    "print(\"Can start pump?\", can_start)\n",
    "print(\"Overpressure risk?\", overpressure_risk)\n",
    "print()\n",
    "\n",
    "pump_running   = False\n",
    "suction_open   = False\n",
    "discharge_open = True\n",
    "\n",
    "can_start = suction_open and discharge_open\n",
    "overpressure_risk = pump_running and (not discharge_open)\n",
    "print(\"Case 7: Pump stopped, suction closed, discharge open\")\n",
    "print(\"Can start pump?\", can_start)\n",
    "print(\"Overpressure risk?\", overpressure_risk)\n",
    "print()\n",
    "\n",
    "pump_running   = False\n",
    "suction_open   = False\n",
    "discharge_open = False\n",
    "\n",
    "can_start = suction_open and discharge_open\n",
    "overpressure_risk = pump_running and (not discharge_open)\n",
    "print(\"Case 8: Pump stopped, suction closed, discharge closed\")\n",
    "print(\"Can start pump?\", can_start)\n",
    "print(\"Overpressure risk?\", overpressure_risk)\n"
   ]
  },
  {
   "cell_type": "markdown",
   "id": "10da01a6",
   "metadata": {},
   "source": [
    "### Example - Analyzer Validation (`not`)\n",
    "\n",
    "A gas analyzer can be used only when it is **validated**.  \n",
    "Use `not` to block operation when validation is missing.\n"
   ]
  },
  {
   "cell_type": "code",
   "execution_count": 28,
   "id": "96d8a5d5",
   "metadata": {},
   "outputs": [
    {
     "name": "stdout",
     "output_type": "stream",
     "text": [
      "Case 1: Analyzer validated\n",
      "Block operation due to invalid analyzer? False\n",
      "\n",
      "Case 2: Analyzer NOT validated\n",
      "Block operation due to invalid analyzer? True\n"
     ]
    }
   ],
   "source": [
    "# Case 1: Analyzer validated (should NOT block operation)\n",
    "analyzer_validated = True\n",
    "block_operation = not analyzer_validated\n",
    "print(\"Case 1: Analyzer validated\")\n",
    "print(\"Block operation due to invalid analyzer?\", block_operation)\n",
    "print()\n",
    "\n",
    "# Case 2: Analyzer NOT validated (should block operation)\n",
    "analyzer_validated = False\n",
    "block_operation = not analyzer_validated\n",
    "print(\"Case 2: Analyzer NOT validated\")\n",
    "print(\"Block operation due to invalid analyzer?\", block_operation)\n"
   ]
  },
  {
   "cell_type": "markdown",
   "id": "51a73336",
   "metadata": {},
   "source": [
    "## 1.1.6. Chapter Summary\n",
    "\n",
    "This chapter introduced essential Python concepts for chemical and process engineering applications:\n",
    "\n",
    "### Variables & Types\n",
    "- Use descriptive variable names and always track **units** (e.g., `pressure_bar`, `T_C`).\n",
    "- Python supports `int`, `float`, `str`, and `bool` types. Use `type()` to check a variable’s type.\n",
    "- Be careful with type flexibility and conversions (e.g., casting strings to numbers for calculations).\n",
    "\n",
    "### Math Operations\n",
    "- Python uses familiar math symbols: `+`, `-`, `*`, `/`, `**`, `%`, `//`.\n",
    "- Operator precedence follows algebraic rules (parentheses, exponents, multiplication/division, addition/subtraction).\n",
    "- Always ensure **unit consistency** in calculations.\n",
    "- Common engineering examples: mass/energy balances, mixing, Reynolds number, vessel volumes.\n",
    "\n",
    "### Input & Type Casting\n",
    "- Use `input()` to collect user data (always as a string).\n",
    "- Cast input to `int` or `float` before calculations.\n",
    "- Essential for real-world engineering where data comes from operators, sensors, or files.\n",
    "\n",
    "### Booleans & Comparisons\n",
    "- Boolean logic (`True`/`False`) is used for decision-making in engineering (alarms, interlocks, QA).\n",
    "- **Comparison operators:** `>`, `<`, `>=`, `<=`, `==`, `!=`.\n",
    "- **Logical operators:** `and`, `or`, `not`.\n",
    "- Combine conditions to encode process rules, safety interlocks, and quality checks.\n",
    "\n",
    "### Engineering Scenarios\n",
    "- Each concept was illustrated with practical examples: pressure alarms, flow checks, tank levels, batch release, pump interlocks, analyzer validation, and more.\n",
    "- Emphasis on translating engineering logic and calculations into clear, reliable Python code.\n",
    "\n",
    "---\n",
    "\n",
    "**Key Takeaway:**\n",
    "\n",
    "Mastering these Python fundamentals enables you to automate calculations, implement process logic, and build robust tools for chemical engineering tasks."
   ]
  },
  {
   "cell_type": "markdown",
   "id": "a4584846",
   "metadata": {},
   "source": [
    "## **Exercises**\n",
    "\n",
    "### **1. Variables & Types**\n",
    "\n",
    "1. Define variables for a distillation column: top temperature (in °C), bottom temperature (in °C), and reflux ratio (dimensionless). Print their values and types.\n",
    "2. Store the density of water (1000 kg/m³) and ethanol (789 kg/m³) in variables. Calculate the mass of 2.5 m³ of each.\n",
    "3. Assign a string `\"Reactor A\"` to a variable, and a boolean `True` to indicate it is operating. Print both.\n",
    "4. Convert the string `\"120\"` into an integer and multiply it by 5 to simulate converting operator input into a usable flowrate.\n",
    "5. Define `int`, `float`, `str`, and `bool` variables that describe a pump (e.g., number of stages, efficiency, tag name, running state). Print all types with `type()`.\n",
    "6. Assign `pressure_bar = 5` and `temperature_C = 120.5`. Convert them to Pa and K respectively and print results with units.\n",
    "7. A tank level indicator shows `\"75\"` (string). Convert it to `int` and compute the fraction of tank filled if total capacity = 100.\n",
    "\n",
    "---\n",
    "\n",
    "### **2. Math Operations**\n",
    "\n",
    "8. Compute the total mass in kg of a liquid stream with flowrate 12 kg/s running for 5 minutes.\n",
    "9. A heat exchanger raises water temperature from 25 °C to 85 °C at 1.5 kg/s. Calculate heat duty with $Q = \\dot m c_p \\Delta T$ $(c_p = 4.18\\$ kJ/kg.K)$.\n",
    "10. A reactor vessel has radius 1.2 m. Calculate volume using $V = \\frac{4}{3} \\pi r^3$.\n",
    "11. Two streams mix: 6 L/min at 0.10 g/L and 4 L/min at 0.40 g/L. Calculate outlet concentration.\n",
    "12. For flow $u=1.0$ m/s, pipe $D=0.05$ m, $\\rho=1000$ kg/m³, $\\mu=0.001$ Pa·s, calculate Reynolds number. Classify regime.\n",
    "13. Package 725 L of product into 200 L drums. Use `//` to compute full drums, and `%` to compute leftover volume.\n",
    "14. A process takes samples every 8 min for 120 min. Use floor division and modulo to find number of samples and leftover minutes.\n",
    "15. Show the difference between `100/2*5` and `100/(2*5)`. Discuss why operator precedence matters in engineering equations.\n",
    "\n",
    "---\n",
    "\n",
    "### **3. Input & Type Casting**\n",
    "\n",
    "16. Ask the user for density (kg/m³) and volume (m³), cast to float, and compute mass.\n",
    "17. Request mass flowrate (kg/s) and inlet/outlet temperatures (°C), then compute heat duty.\n",
    "18. Ask the user for flow (m³/h) and pipe diameter (m). Compute velocity in m/s.\n",
    "19. Request pH from user. Print if water is potable (6.5–8.5).\n",
    "20. Ask user for tank level (%) as string, cast to integer, and check if above 90%.\n",
    "21. Input ethanol mass fraction (string), cast to float, then compute water fraction as `1 - x_ethanol`.\n",
    "22. Ask user for two stream flows (L/min) and concentrations (g/L). Compute outlet concentration.\n",
    "\n",
    "---\n",
    "\n",
    "### **4. Booleans & Comparisons**\n",
    "\n",
    "23. A batch is acceptable if viscosity is between 5–9 cP. Test with viscosity = 8.2.\n",
    "24. Reactor trips if pressure > 5 bar **or** temperature > 120 °C. Test with P=4.9, T=125.\n",
    "25. A tank is considered full if level ≥ 95%. Test with 97%.\n",
    "26. A cooler is unsafe if outlet ≤ 40 °C. Test with T\\_out=38.5.\n",
    "27. A batch step requires exactly pH = 7.0. Check for pH=7.2 and pH=7.0.\n",
    "28. Two thermocouples read 150 °C and 154 °C. If values are not equal, calibration is needed.\n",
    "29. A storage tank is critical if level < 10% **or** > 90%. Test with 5% and 60%.\n",
    "30. A pump can run only if suction and discharge valves are both open. Test with suction open=True, discharge open=False.\n",
    "\n",
    "---"
   ]
  },
  {
   "cell_type": "markdown",
   "id": "f5d747ed",
   "metadata": {},
   "source": [
    "## Challenges\n",
    "\n",
    "### 1. Refinery Gasoline Blending\n",
    "\n",
    "A refinery wants to meet an octane specification by blending two gasoline streams volumetrically. Stream A has octane 75, Stream B has octane 86; the desired blend octane is 83. Find the required volume fraction of Stream B using the relation:\n",
    "\n",
    "$$ON_{blend} = xON_{B} + (1-x)ON_{A}$$\n",
    "\n",
    "Solve for $x$. (Inspired by linear blending models described in fuel refinery contexts.) - Source: [chegg](https://www.chegg.com/homework-help/questions-and-answers/problem-2-liquid-water-fed-boiler-t1-c-p1-bars-absolute-converted-saturated-steam-p1-bars--q33495986?utm_source=chatgpt.com)\n",
    "\n",
    "\n",
    "### 2. Pump Power Calculation (SI Units)\n",
    "\n",
    "Design a pump transporting water (density = 1000 kg/m³) at a flow rate of 1 m³/h against a head of 10 m. Compute the hydraulic power:\n",
    "\n",
    "$$P_{hydraulic} = \\frac{\\rho g Q H}{3.6\\times10^{6}}\\text{ }kW$$\n",
    "\n",
    "Then compute shaft power given efficiency 80%. Sources: [engineeringtoolbox](https://www.engineeringtoolbox.com/pumps-power-d_505.html?utm_source=chatgpt.com), [wikipedia](https://en.wikipedia.org/wiki/Centrifugal_pump?utm_source=chatgpt.com)\n",
    "\n",
    "### 3. Steam Heating Duty\n",
    "\n",
    "Steam is widely used in chemical plants to heat process streams because when it condenses, it releases a large amount of latent heat (~2250 kJ/kg). To size steam utilities, we first calculate the required heat duty for the process stream, then divide by steam latent heat to estimate steam consumption.\n",
    "\n",
    "A process requires heating water from 25 °C to 80 °C at a flow rate of 10 kg/s.\n",
    "The specific heat of water is $c_p = 4.18 ,\\text{kJ/(kg.K)}$.\n",
    "\n",
    "Calculate the necessary mass flow rate of steam to supply the demanded duty. Express the results in $kg.s^{-1}$ e $kg.h^{-1}$.\n",
    "\n",
    "Sources: [Engineering Toolbox](https://www.engineeringtoolbox.com/steam-heating-process-d_437.html)\n",
    "\n",
    "### 4. Milk Pasteurization Duty (HTST)\n",
    "\n",
    "Milk enters a pasteurizer at 4 °C and must be heated to 72 °C. Flow rate is 500 L/min, density ≈ 1 kg/L, cp ≈ 4.0 kJ/kg·K. Compute the heat duty.\n",
    "Include a note that HTST standard is 72 °C for 15 s. \n",
    "\n",
    "Sources: [Thermtest](https://thermtest.com/applications-of-heat-exchangers-in-the-dairy-industry?utm_source=chatgpt.com), [ScienceDirect](https://www.sciencedirect.com/science/article/abs/pii/S0956713503001841?utm_source=chatgpt.com)\n",
    "\n",
    "### 5. Pasteurization Energy Recovery\n",
    "\n",
    "In a pasteurizer with regeneration sections that recover 82% of heat, the specific heat consumption for milk processing is reduced to ~51.7 kJ/kg. Compute the actual heating duty for a flow of 1000 kg/hr of milk. \n",
    "\n",
    "Sources: [ResearchGate](https://www.researchgate.net/publication/269474572_Heat_Consumption_and_Quality_of_Milk_Pasteurization?utm_source=chatgpt.com)\n",
    "\n",
    "### 6. Water Treatment Chlorine Dosing\n",
    "\n",
    "A wastewater plant treats 100 L/s of water with chlorine at 2 mg/L. Calculate the daily amount of chlorine required in kg per day using 100 L/s . 2 mg/L . 86,400 s/day\n",
    "\n",
    "### 7. Flammability Safety Check (Tank Vapor)\n",
    "\n",
    "A storage tank headspace contains a flammable component at 3.0 % v/v. The LFL is 1.2 %. Write a boolean expression to check whether the mixture is in the flammable range\n",
    "\n",
    "Source: [Wikipedia](https://en.wikipedia.org/wiki/Octane_rating?utm_source=chatgpt.com)\n",
    "\n",
    "### 8. Batch Reactor Conversion (Pharma)\n",
    "\n",
    "A batch reactor converts 80% of reactant A into product P with 1:1 stoichiometry. If the initial mass of A is 500 kg, compute the product mass. Consider the same molar basis for A and P.\n",
    "\n",
    "### 9. Distillation Recovery Balance\n",
    "\n",
    "A distillation feed of 1000 kg/h contains 40% component A. The distillate purity is 95% A and over 90% of A is recovered. Compute distillate (D) and bottoms (B) via mass balance. \n",
    "\n",
    "### 10. Pump System Power vs. Motor Rating\n",
    "\n",
    "Extend Exercise 2: If the calculated required electrical power exceeds motor rating of 20 kW, trigger a boolean indicating \"upgrade required\"."
   ]
  },
  {
   "cell_type": "markdown",
   "id": "4b0252d2",
   "metadata": {},
   "source": []
  }
 ],
 "metadata": {
  "kernelspec": {
   "display_name": "Python 3",
   "language": "python",
   "name": "python3"
  },
  "language_info": {
   "codemirror_mode": {
    "name": "ipython",
    "version": 3
   },
   "file_extension": ".py",
   "mimetype": "text/x-python",
   "name": "python",
   "nbconvert_exporter": "python",
   "pygments_lexer": "ipython3",
   "version": "3.11.13"
  }
 },
 "nbformat": 4,
 "nbformat_minor": 5
}
